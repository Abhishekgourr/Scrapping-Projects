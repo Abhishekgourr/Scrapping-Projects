{
 "cells": [
  {
   "cell_type": "code",
   "execution_count": null,
   "id": "c3d38dc9",
   "metadata": {},
   "outputs": [],
   "source": [
    "import schedule\n",
    "import pandas as pd\n",
    "from selenium import webdriver\n",
    "from selenium.webdriver.chrome.service import Service\n",
    "import datetime as dt\n",
    "import time\n",
    "import requests\n",
    "\n",
    "service = Service(r\"C:\\Users\\Abhishek Gour\\Downloads\\chromedriver_win32(6)\\chromedriver.exe\")\n",
    "\n",
    "def get_driver():\n",
    "    options = webdriver.ChromeOptions()\n",
    "    options.add_argument(\"disable-infobars\")\n",
    "    options.add_argument(\"start-maximized\")\n",
    "    options.add_argument(\"disable-dev-shm-usage\")\n",
    "    options.add_argument(\"no-sandbox\")\n",
    "    options.add_experimental_option(\"excludeSwitches\", [\"enable-automation\"])\n",
    "    options.add_argument(\"disable-blink-features=AutomationControlled\")\n",
    "\n",
    "    driver = webdriver.Chrome(service=service, options=options)\n",
    "    return driver\n",
    "\n",
    "def main():\n",
    "    get_driver()\n",
    "    url = input(\"Enter the URL : \" )\n",
    "    html = requests.get(url).content\n",
    "    df = pd.read_html(html)[0]\n",
    "\n",
    "    df.to_csv(r'C:\\Users\\Abhishek Gour\\Documents\\CSV PYTHON\\\\' + f\"{dt.datetime.now().strftime('%Y-%m-%d.%H-%M-%S')}.csv\")\n",
    "main()\n",
    "#\n",
    "# schedule.every().day.at('21:00').do(main)\n",
    "# while True:\n",
    "#     schedule.run_pending()\n",
    "#     time.sleep(1)"
   ]
  }
 ],
 "metadata": {
  "kernelspec": {
   "display_name": "Python 3 (ipykernel)",
   "language": "python",
   "name": "python3"
  },
  "language_info": {
   "codemirror_mode": {
    "name": "ipython",
    "version": 3
   },
   "file_extension": ".py",
   "mimetype": "text/x-python",
   "name": "python",
   "nbconvert_exporter": "python",
   "pygments_lexer": "ipython3",
   "version": "3.9.7"
  }
 },
 "nbformat": 4,
 "nbformat_minor": 5
}
