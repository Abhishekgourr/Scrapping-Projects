{
 "cells": [
  {
   "cell_type": "code",
   "execution_count": 4,
   "id": "87c9b8cc",
   "metadata": {},
   "outputs": [],
   "source": [
    "# Import Libraries\n",
    "\n",
    "from bs4 import BeautifulSoup\n",
    "import requests\n",
    "import time\n",
    "import datetime\n",
    "\n",
    "\n",
    "import smtplib\n",
    "\n",
    "\n"
   ]
  },
  {
   "cell_type": "code",
   "execution_count": 5,
   "id": "238e8484",
   "metadata": {},
   "outputs": [
    {
     "name": "stdout",
     "output_type": "stream",
     "text": [
      "\n",
      "                Amazon Brand - Symbol Men's Regular Polo Shirt\n",
      "               \n",
      "\n",
      "\n",
      "\n",
      "\n",
      "\n",
      "                Price:\n",
      "               \n",
      "\n",
      "\n",
      "\n",
      "\n",
      "                   ₹299\n",
      "                  \n",
      "\n",
      "                   ₹299\n",
      "                  \n",
      "\n",
      "\n",
      "                  -\n",
      "                 \n",
      "\n",
      "\n",
      "                   ₹359\n",
      "                  \n",
      "\n",
      "                   ₹359\n",
      "                  \n",
      "\n",
      "\n",
      "\n",
      "\n",
      "\n",
      "\n",
      "\n",
      "\n",
      "\n",
      "\n",
      "\n",
      "\n",
      "\n",
      "\n",
      "\n",
      "\n",
      "\n",
      "\n",
      "\n",
      "\n",
      "\n",
      "\n",
      "\n",
      "\n",
      "\n",
      "                 Inclusive of all taxes\n",
      "                \n",
      "\n",
      "\n",
      "\n",
      "\n",
      "\n"
     ]
    }
   ],
   "source": [
    "# Connect to Website\n",
    "\n",
    "\n",
    "URL='https://www.amazon.in/Amazon-Brand-Symbol-Polo_SS19PLS2_Fog-Teal_Large/dp/B07MZG27XK/ref=sr_1_5?pf_rd_i=21251246031&pf_rd_m=A1VBAL9TL5WCBF&pf_rd_p=28bd9c32-d963-4fe4-8379-fc84147edf11&pf_rd_r=9CD6Q6A6SPP36VCKMEG8&pf_rd_s=merchandised-search-4&pf_rd_t=30901&qid=1675136833&s=apparel&sr=1-5'\n",
    "\n",
    "headers = {\"User-Agent\": \"Mozilla/5.0 (Windows NT 10.0; Win64; x64) AppleWebKit/537.36 (KHTML, like Gecko) Chrome/109.0.0.0 Safari/537.36\"}\n",
    "\n",
    "page = requests.get(URL, headers=headers)\n",
    "\n",
    "soup1 = BeautifulSoup(page.content, \"html.parser\")\n",
    "\n",
    "\n",
    "soup2 = BeautifulSoup(soup1.prettify(), \"html.parser\")\n",
    "\n",
    "title = soup2.find(id=\"productTitle\").get_text()\n",
    "\n",
    "# price = soup2.find(id=\"priceblock_ourprice\").get_text()\n",
    "\n",
    "price = soup2.find(id=\"corePrice_desktop\").get_text()\n",
    "print(title)\n",
    "print(price)\n",
    "\n",
    "\n",
    "\n",
    "# print(soup1)"
   ]
  },
  {
   "cell_type": "code",
   "execution_count": 6,
   "id": "24abc147",
   "metadata": {},
   "outputs": [
    {
     "name": "stdout",
     "output_type": "stream",
     "text": [
      "Amazon Brand - Symbol Men's Regular Polo Shirt\n",
      "rice:\n",
      "               \n",
      "\n",
      "\n",
      "\n",
      "\n",
      "                   ₹299\n",
      "                  \n",
      "\n",
      "                   ₹299\n",
      "                  \n",
      "\n",
      "\n",
      "                  -\n",
      "                 \n",
      "\n",
      "\n",
      "                   ₹359\n",
      "                  \n",
      "\n",
      "                   ₹359\n",
      "                  \n",
      "\n",
      "\n",
      "\n",
      "\n",
      "\n",
      "\n",
      "\n",
      "\n",
      "\n",
      "\n",
      "\n",
      "\n",
      "\n",
      "\n",
      "\n",
      "\n",
      "\n",
      "\n",
      "\n",
      "\n",
      "\n",
      "\n",
      "\n",
      "\n",
      "\n",
      "                 Inclusive of all taxes\n"
     ]
    }
   ],
   "source": [
    "price = price.strip()[1:]\n",
    "title = title.strip()\n",
    "\n",
    "print(title)\n",
    "print(price)"
   ]
  },
  {
   "cell_type": "code",
   "execution_count": 7,
   "id": "807bcb9c",
   "metadata": {},
   "outputs": [
    {
     "name": "stdout",
     "output_type": "stream",
     "text": [
      "2023-02-01\n"
     ]
    }
   ],
   "source": [
    "import datetime\n",
    "\n",
    "today = datetime.date.today()\n",
    "\n",
    "print(today)"
   ]
  },
  {
   "cell_type": "code",
   "execution_count": 8,
   "id": "7827003d",
   "metadata": {},
   "outputs": [],
   "source": [
    "import csv\n",
    "\n",
    "header = ['Title', 'Price', 'Date']\n",
    "data = [title, price, today ]\n",
    "\n",
    "\n",
    "with open(r\"C:\\Users\\Abhishek Gour\\Documents\\AmazonWebScrapperDataset\\Web.csv\" , 'w' , newline='' , encoding='UTF8') as f:\n",
    "    writer = csv.writer(f)\n",
    "    writer.writerow(header)\n",
    "    writer.writerow(data)"
   ]
  },
  {
   "cell_type": "code",
   "execution_count": 9,
   "id": "fc040121",
   "metadata": {},
   "outputs": [
    {
     "name": "stdout",
     "output_type": "stream",
     "text": [
      "                                            Title  \\\n",
      "0  Amazon Brand - Symbol Men's Regular Polo Shirt   \n",
      "\n",
      "                                               Price        Date  \n",
      "0  rice:\\n               \\n\\n\\n\\n\\n              ...  2023-02-01  \n"
     ]
    }
   ],
   "source": [
    "import pandas as pd\n",
    "\n",
    "df = pd.read_csv(r'C:\\Users\\Abhishek Gour\\Documents\\AmazonWebScrapperDataset\\Web.csv')\n",
    "\n",
    "print(df)"
   ]
  },
  {
   "cell_type": "code",
   "execution_count": 10,
   "id": "1c8f6dd9",
   "metadata": {},
   "outputs": [],
   "source": [
    "# Now we are appending data to the csv\n",
    "\n",
    "\n",
    "with open('AmazonWebScrapperDataset.csv' , 'a+' , newline='' , encoding='UTF8') as f:\n",
    "    writer = csv.writer(f)\n",
    "    writer.writerow(data)"
   ]
  },
  {
   "cell_type": "code",
   "execution_count": 24,
   "id": "accadd09",
   "metadata": {},
   "outputs": [],
   "source": [
    "def check_price():\n",
    "    URL='https://www.amazon.in/Amazon-Brand-Symbol-Polo_SS19PLS2_Fog-Teal_Large/dp/B07MZG27XK/ref=sr_1_5?pf_rd_i=21251246031&pf_rd_m=A1VBAL9TL5WCBF&pf_rd_p=28bd9c32-d963-4fe4-8379-fc84147edf11&pf_rd_r=9CD6Q6A6SPP36VCKMEG8&pf_rd_s=merchandised-search-4&pf_rd_t=30901&qid=1675136833&s=apparel&sr=1-5'\n",
    "\n",
    "    headers = {\"User-Agent\": \"Mozilla/5.0 (Windows NT 10.0; Win64; x64) AppleWebKit/537.36 (KHTML, like Gecko) Chrome/109.0.0.0 Safari/537.36\"}\n",
    "\n",
    "    page = requests.get(URL, headers=headers)\n",
    "\n",
    "    soup1 = BeautifulSoup(page.content, \"html.parser\")\n",
    "\n",
    "\n",
    "    soup2 = BeautifulSoup(soup1.prettify(), \"html.parser\")\n",
    "\n",
    "    title = soup2.find(id=\"productTitle\").get_text()\n",
    "\n",
    "    price = soup2.find(id=\"corePrice_desktop\").get_text()\n",
    "    \n",
    "    price = price.strip()[1:]\n",
    "    title = title.strip()\n",
    "    \n",
    "    import datetime\n",
    "\n",
    "    today = datetime.date.today()\n",
    "    \n",
    "    \n",
    "    import csv\n",
    "    header = ['Title', 'Price', 'Date']\n",
    "    data = [title, price, today ]\n",
    "    \n",
    "    with open('AmazonWebScrapperDataset.csv' , 'a+' , newline='' , encoding='UTF8') as f:\n",
    "        writer = csv.writer(f)\n",
    "        writer.writerow(data)\n",
    "    \n",
    "#     if str((price < 14)):\n",
    "#         send_mail()\n",
    "    \n",
    "    \n",
    "    "
   ]
  },
  {
   "cell_type": "code",
   "execution_count": null,
   "id": "2c457984",
   "metadata": {},
   "outputs": [],
   "source": [
    "# Runs check_price after a set time and inputs data into your CSV\n",
    "\n",
    "while(True):\n",
    "    check_price()\n",
    "    time.sleep(5)"
   ]
  },
  {
   "cell_type": "code",
   "execution_count": null,
   "id": "973f971d",
   "metadata": {},
   "outputs": [],
   "source": [
    "import pandas as pd\n",
    "\n",
    "df = pd.read_csv(r'C:\\Users\\Abhishek Gour\\Documents\\AmazonWebScrapperDataset\\Web.csv')\n",
    "\n",
    "print(df)"
   ]
  },
  {
   "cell_type": "code",
   "execution_count": null,
   "id": "aeb67f2e",
   "metadata": {},
   "outputs": [],
   "source": [
    "# If uou want to try sending yourself an email (just for fun) when a price hits below a certain level you can try it\n",
    "# out with this script\n",
    "\n",
    "def send_mail():\n",
    "    server = smtplib.SMTP_SSL('smtp.gmail.com',465)\n",
    "    server.ehlo()\n",
    "    #server.starttls()\n",
    "    server.ehlo()\n",
    "    server.login('gourabhishek492@gmail.com','')\n",
    "    \n",
    "    subject = \"The Shirt you want is below $15! Now is your chance to buy!\"\n",
    "    body = \"Alex, This is the moment we have been waiting for. Now is your chance to pick up the shirt of your dreams. Don't mess it up! Link here: https://www.amazon.com/Funny-Data-Systems-Business-Analyst/dp/B07FNW9FGJ/ref=sr_1_3?dchild=1&keywords=data+analyst+tshirt&qid=1626655184&sr=8-3\"\n",
    "   \n",
    "    msg = f\"Subject: {subject}\\n\\n{body}\"\n",
    "    \n",
    "    server.sendmail(\n",
    "        '@gmail.com',\n",
    "        msg\n",
    "     \n",
    "    )"
   ]
  }
 ],
 "metadata": {
  "kernelspec": {
   "display_name": "Python 3 (ipykernel)",
   "language": "python",
   "name": "python3"
  },
  "language_info": {
   "codemirror_mode": {
    "name": "ipython",
    "version": 3
   },
   "file_extension": ".py",
   "mimetype": "text/x-python",
   "name": "python",
   "nbconvert_exporter": "python",
   "pygments_lexer": "ipython3",
   "version": "3.9.7"
  }
 },
 "nbformat": 4,
 "nbformat_minor": 5
}
